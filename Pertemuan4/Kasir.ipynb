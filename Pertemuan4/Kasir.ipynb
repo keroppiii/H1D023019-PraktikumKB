{
 "cells": [
  {
   "cell_type": "code",
   "execution_count": 7,
   "metadata": {},
   "outputs": [],
   "source": [
    "import random\n",
    "import datetime"
   ]
  },
  {
   "cell_type": "code",
   "execution_count": 9,
   "metadata": {},
   "outputs": [],
   "source": [
    "produk = {\n",
    "    \"1\": {\"nama\": \"Pensil\", \"harga\": 3000},\n",
    "    \"2\": {\"nama\": \"Buku\", \"harga\": 10000},\n",
    "    \"3\": {\"nama\": \"Penghapus\", \"harga\": 2000},\n",
    "    \"4\": {\"nama\": \"Penggaris\", \"harga\": 4000}\n",
    "}"
   ]
  },
  {
   "cell_type": "code",
   "execution_count": 11,
   "metadata": {},
   "outputs": [
    {
     "name": "stdout",
     "output_type": "stream",
     "text": [
      "========== Selamat datang di Toko Alat Tulis! ==========\n",
      "Daftar Produk:\n",
      "1. Pensil - Rp3000\n",
      "2. Buku - Rp10000\n",
      "3. Penghapus - Rp2000\n",
      "4. Penggaris - Rp4000\n",
      "✅ Pensil ditambahkan ke keranjang!\n",
      "✅ Buku ditambahkan ke keranjang!\n",
      "✅ Penggaris ditambahkan ke keranjang!\n",
      "\n",
      " ==== Struk Belanja: ====\n",
      "- Pensil - Rp3000\n",
      "- Buku - Rp10000\n",
      "- Penggaris - Rp4000\n",
      "\n",
      "Total: Rp17000\n",
      "Diskon: 5%\n",
      "Total setelah diskon: Rp16150\n",
      "Tanggal: 2025-03-23 18:41:24\n",
      "Terima kasih sudah berbelanja!\n"
     ]
    }
   ],
   "source": [
    "print(\"========== Selamat datang di Toko Alat Tulis! ==========\")\n",
    "print(\"Daftar Produk:\")\n",
    "for key, item in produk.items():\n",
    "    print(f\"{key}. {item['nama']} - Rp{item['harga']}\")\n",
    "\n",
    "keranjang = []\n",
    "while True:\n",
    "    pilihan = input(\"Masukkan nomor produk (atau ketik 'selesai' untuk checkout): \")\n",
    "    if pilihan.lower() == \"selesai\":\n",
    "        break\n",
    "    elif pilihan in produk:\n",
    "        keranjang.append(produk[pilihan])\n",
    "        print(f\"✅ {produk[pilihan]['nama']} ditambahkan ke keranjang!\")\n",
    "    else:\n",
    "        print(\"⚠ Produk tidak ditemukan.\")\n",
    "\n",
    "# Checkout\n",
    "print(\"\\n ==== Struk Belanja: ====\")\n",
    "total = 0\n",
    "for item in keranjang:\n",
    "    print(f\"- {item['nama']} - Rp{item['harga']}\")\n",
    "    total += item['harga']\n",
    "\n",
    "diskon = random.randint(5, 15)  # Diskon acak 5%-15%\n",
    "total_diskon = total - (total * diskon / 100)\n",
    "\n",
    "print(f\"\\nTotal: Rp{total}\")\n",
    "print(f\"Diskon: {diskon}%\")\n",
    "print(f\"Total setelah diskon: Rp{int(total_diskon)}\")\n",
    "print(f\"Tanggal: {datetime.datetime.now().strftime('%Y-%m-%d %H:%M:%S')}\")\n",
    "print(\"Terima kasih sudah berbelanja!\")"
   ]
  },
  {
   "cell_type": "code",
   "execution_count": null,
   "metadata": {},
   "outputs": [],
   "source": []
  }
 ],
 "metadata": {
  "kernelspec": {
   "display_name": "Python 3",
   "language": "python",
   "name": "python3"
  },
  "language_info": {
   "codemirror_mode": {
    "name": "ipython",
    "version": 3
   },
   "file_extension": ".py",
   "mimetype": "text/x-python",
   "name": "python",
   "nbconvert_exporter": "python",
   "pygments_lexer": "ipython3",
   "version": "3.12.6"
  }
 },
 "nbformat": 4,
 "nbformat_minor": 2
}
